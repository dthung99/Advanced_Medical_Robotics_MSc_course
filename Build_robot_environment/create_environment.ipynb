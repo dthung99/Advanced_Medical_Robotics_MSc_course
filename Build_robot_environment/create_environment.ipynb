{
 "cells": [
  {
   "cell_type": "code",
   "execution_count": 12,
   "metadata": {},
   "outputs": [],
   "source": [
    "import numpy as np\n",
    "import matplotlib.pyplot as plt"
   ]
  },
  {
   "cell_type": "code",
   "execution_count": 67,
   "metadata": {},
   "outputs": [
    {
     "data": {
      "text/plain": [
       "(300, 300)"
      ]
     },
     "execution_count": 67,
     "metadata": {},
     "output_type": "execute_result"
    }
   ],
   "source": [
    "class BuildEnvironment:\n",
    "    def __init__(self, dimension: tuple = (300, 300, 10)):\n",
    "        '''Get a tuple of length 3, create a zero np.array of that size'''\n",
    "        self.env = np.zeros(dimension)\n",
    "    \n",
    "    def addCircleSpring(self, center: np.ndarray((2,)), k_matrix: np.ndarray((2,2)) = np.array([[1, 0],[0,1]]), radius = 10):\n",
    "        center = np.array(center).reshape(-1,1)\n",
    "        lower_limit_x = np.round(center[0]-radius)[0]\n",
    "        upper_limit_x = np.round(center[0]+radius)[0]\n",
    "        lower_limit_y = np.round(center[1]-radius)[0]\n",
    "        upper_limit_y = np.round(center[1]+radius)[0]\n",
    "        for i in range(lower_limit_x, upper_limit_x + 1):\n",
    "            for j in range(lower_limit_y, upper_limit_y + 1):\n",
    "                self.env[i, j, 0] = 255\n",
    "        print(2)\n",
    "\n",
    "test = BuildEnvironment((300, 300, 4))\n",
    "test.env[:,:,0].shape\n",
    "# test.addCircleSpring([150,150], np.array([[1, 0],[0,1]]), 10)"
   ]
  },
  {
   "cell_type": "code",
   "execution_count": 77,
   "metadata": {},
   "outputs": [
    {
     "name": "stdout",
     "output_type": "stream",
     "text": [
      "Array 1: [[1 2 3 4 5]\n",
      " [1 2 3 4 5]]\n",
      "Array 2: [[1 2 3 4 5]\n",
      " [1 2 3 4 6]]\n"
     ]
    }
   ],
   "source": [
    "# Plotting variables\n",
    "self.environment_name = \"/home/pi/ros2_ws/src/haptic/haptic/Environment.pk1\"\n",
    "# Load the environment\n",
    "with open(self.environment_name, 'rb') as file:\n",
    "    self.environment = pickle.load(file)\n",
    "self.image_array = np.array(self.environment)[:,:,0]\n"
   ]
  },
  {
   "cell_type": "code",
   "execution_count": 2,
   "metadata": {},
   "outputs": [],
   "source": [
    "import pickle\n",
    "import numpy as np\n",
    "import matplotlib.colors as mcolors\n",
    "import matplotlib.pyplot as plt\n",
    "# Save the list to a file\n",
    "with open('Environment.pk1', 'rb') as file:\n",
    "    environment = pickle.load(file)\n",
    "image_array = np.array(environment)[:,:,0]"
   ]
  },
  {
   "cell_type": "code",
   "execution_count": 3,
   "metadata": {},
   "outputs": [
    {
     "data": {
      "text/plain": [
       "(-0.5, 315.025, -0.5, 599.5)"
      ]
     },
     "execution_count": 3,
     "metadata": {},
     "output_type": "execute_result"
    },
    {
     "data": {
      "image/png": "[encoded data removed]",
      "text/plain": [
       "<Figure size 640x480 with 1 Axes>"
      ]
     },
     "metadata": {},
     "output_type": "display_data"
    }
   ],
   "source": [
    "custom_colors = ['#FF0000', '#00FF00', '#0000FF', '#FFFF00', '#FF00FF', '#00FFFF', '#FFA500', '#800080', '#008080', '#800000']\n",
    "custom_cmap = mcolors.ListedColormap(custom_colors)\n",
    "\n",
    "fig, ax = plt.subplots()\n",
    "\n",
    "ax.imshow(image_array.astype(np.uint8), cmap=custom_cmap)\n",
    "\n",
    "ax.invert_yaxis()\n",
    "ax.plot([0, 300], [300, 300])\n",
    "ax.axis('off')\n",
    "\n",
    "        # arm_1_environment_x = 300 - self.robot_state.arm_1_position[1]\n",
    "        # arm_1_environment_y = self.robot_state.arm_1_position[0]\n",
    "        # arm_2_environment_x = 300 - self.robot_state.arm_2_position[1]\n",
    "        # arm_2_environment_y = self.robot_state.arm_2_position[0]\n",
    "        # arm_3_environment_x = 300 - self.robot_state.arm_3_position[1]\n",
    "        # arm_3_environment_y = self.robot_state.arm_3_position[0]\n",
    "\n",
    "        # self.arm_1_plot.set_data([300, arm_1_environment_x], [0, arm_1_environment_y])\n",
    "        # self.arm_2_plot.set_data([arm_1_environment_x, arm_2_environment_x], [arm_1_environment_y, arm_2_environment_y])\n",
    "        # self.arm_3_plot.set_data([arm_2_environment_x, arm_3_environment_x], [arm_2_environment_y, arm_3_environment_y])\n"
   ]
  },
  {
   "cell_type": "code",
   "execution_count": 98,
   "metadata": {},
   "outputs": [
    {
     "data": {
      "text/plain": [
       "True"
      ]
     },
     "execution_count": 98,
     "metadata": {},
     "output_type": "execute_result"
    }
   ],
   "source": [
    "1 != 0"
   ]
  }
 ],
 "metadata": {
  "kernelspec": {
   "display_name": "Python 3",
   "language": "python",
   "name": "python3"
  },
  "language_info": {
   "codemirror_mode": {
    "name": "ipython",
    "version": 3
   },
   "file_extension": ".py",
   "mimetype": "text/x-python",
   "name": "python",
   "nbconvert_exporter": "python",
   "pygments_lexer": "ipython3",
   "version": "3.12.2"
  }
 },
 "nbformat": 4,
 "nbformat_minor": 2
}
