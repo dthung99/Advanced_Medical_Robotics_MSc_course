{
 "cells": [
  {
   "cell_type": "code",
   "execution_count": 12,
   "metadata": {},
   "outputs": [],
   "source": [
    "import numpy as np\n",
    "import matplotlib.pyplot as plt"
   ]
  },
  {
   "cell_type": "code",
   "execution_count": 67,
   "metadata": {},
   "outputs": [
    {
     "data": {
      "text/plain": [
       "(300, 300)"
      ]
     },
     "execution_count": 67,
     "metadata": {},
     "output_type": "execute_result"
    }
   ],
   "source": [
    "class BuildEnvironment:\n",
    "    def __init__(self, dimension: tuple = (300, 300, 10)):\n",
    "        '''Get a tuple of length 3, create a zero np.array of that size'''\n",
    "        self.env = np.zeros(dimension)\n",
    "    \n",
    "    def addCircleSpring(self, center: np.ndarray((2,)), k_matrix: np.ndarray((2,2)) = np.array([[1, 0],[0,1]]), radius = 10):\n",
    "        center = np.array(center).reshape(-1,1)\n",
    "        lower_limit_x = np.round(center[0]-radius)[0]\n",
    "        upper_limit_x = np.round(center[0]+radius)[0]\n",
    "        lower_limit_y = np.round(center[1]-radius)[0]\n",
    "        upper_limit_y = np.round(center[1]+radius)[0]\n",
    "        for i in range(lower_limit_x, upper_limit_x + 1):\n",
    "            for j in range(lower_limit_y, upper_limit_y + 1):\n",
    "                self.env[i, j, 0] = 255\n",
    "        print(2)\n",
    "\n",
    "test = BuildEnvironment((300, 300, 4))\n",
    "test.env[:,:,0].shape\n",
    "# test.addCircleSpring([150,150], np.array([[1, 0],[0,1]]), 10)"
   ]
  },
  {
   "cell_type": "code",
   "execution_count": 77,
   "metadata": {},
   "outputs": [
    {
     "name": "stdout",
     "output_type": "stream",
     "text": [
      "Array 1: [[1 2 3 4 5]\n",
      " [1 2 3 4 5]]\n",
      "Array 2: [[1 2 3 4 5]\n",
      " [1 2 3 4 6]]\n"
     ]
    }
   ],
   "source": [
    "import numpy as np\n",
    "\n",
    "# Create an array from a list\n",
    "array1 = np.array([[1, 2, 3, 4, 5], [1, 2, 3, 4, 5]])\n",
    "\n",
    "# Create an array with a range of values\n",
    "array2 = np.array([[1, 2, 3, 4, 5], [1, 2, 3, 4, 6]])\n",
    "\n",
    "t = array1[1,:]\n",
    "array1[0,:] = array1[1,:]\n",
    "array1[1,:] = t\n",
    "\n",
    "# Print the arrays\n",
    "print(\"Array 1:\", array1)\n",
    "print(\"Array 2:\", array2)"
   ]
  },
  {
   "cell_type": "code",
   "execution_count": 80,
   "metadata": {},
   "outputs": [],
   "source": [
    "import pickle\n",
    "\n",
    "# Create a Python list\n",
    "\n",
    "\n",
    "# Save the list to a file\n",
    "with open('Environment.pk1', 'rb') as file:\n",
    "    loaded_list = pickle.load(file)\n"
   ]
  },
  {
   "cell_type": "code",
   "execution_count": 82,
   "metadata": {},
   "outputs": [
    {
     "data": {
      "text/plain": [
       "[1.0, 2.0290403945674007, 6.66684701072146, 0.0, 0.0, 0.0, 0.0, 0.0, 0.0, 0.0]"
      ]
     },
     "execution_count": 82,
     "metadata": {},
     "output_type": "execute_result"
    }
   ],
   "source": [
    "# loaded_list[160][199][2]\n",
    "x = 170\n",
    "y = 70\n",
    "loaded_list[300-y][x]"
   ]
  }
 ],
 "metadata": {
  "kernelspec": {
   "display_name": "Python 3",
   "language": "python",
   "name": "python3"
  },
  "language_info": {
   "codemirror_mode": {
    "name": "ipython",
    "version": 3
   },
   "file_extension": ".py",
   "mimetype": "text/x-python",
   "name": "python",
   "nbconvert_exporter": "python",
   "pygments_lexer": "ipython3",
   "version": "3.12.2"
  }
 },
 "nbformat": 4,
 "nbformat_minor": 2
}
